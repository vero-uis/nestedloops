{
 "cells": [
  {
   "cell_type": "markdown",
   "metadata": {
    "slideshow": {
     "slide_type": "slide"
    }
   },
   "source": [
    "# Python: Nested Loops\n",
    "\n",
    "by Vero Estrada-Galiñanes \n",
    "<br>\n",
    "<br>\n",
    "<br>\n",
    "\n",
    "4th April 2019\n",
    "\n",
    "\n",
    "\n",
    "\n",
    "\n",
    "\n",
    "<img src=\"images/standard_uis.png\" style=\"float: right;\" alt=\"UiS logo\" width=\"150\"/>\n",
    "\n",
    "-----------------------------------"
   ]
  },
  {
   "cell_type": "markdown",
   "metadata": {
    "slideshow": {
     "slide_type": "slide"
    }
   },
   "source": [
    "## 1 This course was prepared in a Jupyter notebook\n",
    "\n",
    "Jupyter Notebook is an interactive computational environment, in which you can combine code execution, rich text, mathematics, plots and rich media. <br>\n",
    "\n",
    "<img src=\"images/jupyter.png\" style=\"float: left;\" alt=\"jupyter\" width=\"600\"/>\n",
    "\n",
    "\n",
    "For more information go to: https://jupyter.org/"
   ]
  },
  {
   "cell_type": "markdown",
   "metadata": {
    "slideshow": {
     "slide_type": "slide"
    }
   },
   "source": [
    "## 2 Preliminaries\n",
    "\n",
    "Loop structures allow the computer to choose repeat a sequence of actions until a goal is achieved.\n",
    "\n",
    "<img src=\"images/Obstaclecourse.jpg\" alt=\"obstacle race\" width=\"600\"/>\n",
    "\n",
    "### How do you know the condition is reached?\n"
   ]
  },
  {
   "cell_type": "markdown",
   "metadata": {
    "slideshow": {
     "slide_type": "subslide"
    }
   },
   "source": [
    "### 2.1 Boolean statements\n",
    "\n",
    "|operator | meaning |\n",
    "|:---------:|:---------|\n",
    "|< | less than|\n",
    "|< |less than| \n",
    "|> |greater than |\n",
    "|==| equal to |\n",
    "|<=| less than or equal to|\n",
    "|>= |greater than or equal to|\n",
    "|!= |not equal|\n"
   ]
  },
  {
   "cell_type": "code",
   "execution_count": 1,
   "metadata": {
    "slideshow": {
     "slide_type": "-"
    }
   },
   "outputs": [
    {
     "data": {
      "text/plain": [
       "False"
      ]
     },
     "execution_count": 1,
     "metadata": {},
     "output_type": "execute_result"
    }
   ],
   "source": [
    "a = 0 #assignment\n",
    "a == True #boolean statement that uses '==' comparison operator"
   ]
  },
  {
   "cell_type": "code",
   "execution_count": 2,
   "metadata": {
    "slideshow": {
     "slide_type": "-"
    }
   },
   "outputs": [
    {
     "data": {
      "text/plain": [
       "True"
      ]
     },
     "execution_count": 2,
     "metadata": {},
     "output_type": "execute_result"
    }
   ],
   "source": [
    "a = 1\n",
    "a == True"
   ]
  },
  {
   "cell_type": "markdown",
   "metadata": {
    "slideshow": {
     "slide_type": "subslide"
    }
   },
   "source": [
    "### 2.2 IF: Condition check\n",
    "\n",
    "if **boolean expression**: <br>\n",
    "&nbsp;&nbsp;&nbsp;&nbsp;**statements** \n",
    "\n",
    "#### Flow diagram\n",
    "\n",
    "<img src=\"images/if_flow.png\" alt=\"if\" width=\"400\"/>"
   ]
  },
  {
   "cell_type": "code",
   "execution_count": 42,
   "metadata": {
    "slideshow": {
     "slide_type": "subslide"
    }
   },
   "outputs": [
    {
     "name": "stdout",
     "output_type": "stream",
     "text": [
      "2019-04-01\n",
      "The submission deadline has passed. The assignment will not be graded.\n"
     ]
    }
   ],
   "source": [
    "import datetime\n",
    "now = datetime.date.today()\n",
    "deadline = datetime.date(2019, 4, 1)\n",
    "print(deadline)\n",
    "if now <= deadline:\n",
    "    print(\"Thank you for your submission. Resultes will be available after deadline\")\n",
    "else:\n",
    "    print(\"The submission deadline has passed. The assignment will not be graded.\")"
   ]
  },
  {
   "cell_type": "markdown",
   "metadata": {
    "slideshow": {
     "slide_type": "subslide"
    }
   },
   "source": [
    "### 2.3 WHILE: Indefinite loops\n",
    "\n",
    "while **expression**: <br>\n",
    "&nbsp;&nbsp;&nbsp;&nbsp;**statements** \n",
    "\n",
    "#### Flow diagram\n",
    "\n",
    "<img src=\"images/whileLoop.png\" alt=\"while loop\" width=\"400\"/>"
   ]
  },
  {
   "cell_type": "markdown",
   "metadata": {
    "slideshow": {
     "slide_type": "subslide"
    }
   },
   "source": [
    "### Print some Fibonacci numbers\n",
    "\n",
    "The Fibonacci numbers form a sequence, such that each number is the sum of the two preceding ones, starting from 0 and 1.\n",
    "That is,\n",
    "\n",
    "$F_0=0\\;F_1=1$ <br>\n",
    "and<br>\n",
    "$F_n=F_{n-1}+F_{n-2}$<br>\n",
    "\n",
    "Example: 0 1 1 2 3 5 8 13 21 34 ..."
   ]
  },
  {
   "cell_type": "code",
   "execution_count": 61,
   "metadata": {
    "scrolled": true,
    "slideshow": {
     "slide_type": "-"
    }
   },
   "outputs": [
    {
     "name": "stdout",
     "output_type": "stream",
     "text": [
      "0\n",
      "1\n",
      "1\n",
      "2\n",
      "3\n",
      "5\n",
      "8\n"
     ]
    }
   ],
   "source": [
    "# Print some Fibonacci numbers \n",
    "a, b = 0, 1  #Multiple assignment \n",
    "while a < 10:\n",
    "    print(a)\n",
    "    a, b = b, a+b"
   ]
  },
  {
   "cell_type": "markdown",
   "metadata": {
    "slideshow": {
     "slide_type": "subslide"
    }
   },
   "source": [
    "### Create a function that writes the Fibonacci series to an arbitrary boundary"
   ]
  },
  {
   "cell_type": "code",
   "execution_count": 62,
   "metadata": {
    "slideshow": {
     "slide_type": "-"
    }
   },
   "outputs": [
    {
     "name": "stdout",
     "output_type": "stream",
     "text": [
      "0 1 1 2 3 \n"
     ]
    }
   ],
   "source": [
    "def fib(n):    # write Fibonacci series up to n\n",
    "    \"\"\"Print a Fibonacci series up to n.\"\"\"\n",
    "    a, b = 0, 1\n",
    "    while a < n:\n",
    "        print(a, end=' ') # the parameter end adds an space after printing a\n",
    "        a, b = b, a+b\n",
    "    print()\n",
    "\n",
    "fib(4)  # call the function"
   ]
  },
  {
   "cell_type": "markdown",
   "metadata": {
    "slideshow": {
     "slide_type": "subslide"
    }
   },
   "source": [
    "### Instead of printing, return a list with the numbers"
   ]
  },
  {
   "cell_type": "code",
   "execution_count": 17,
   "metadata": {
    "slideshow": {
     "slide_type": "-"
    }
   },
   "outputs": [
    {
     "data": {
      "text/plain": [
       "[0, 1, 1, 2, 3, 5, 8, 13, 21, 34, 55, 89]"
      ]
     },
     "execution_count": 17,
     "metadata": {},
     "output_type": "execute_result"
    }
   ],
   "source": [
    "def fib2(n):  # return Fibonacci series up to n\n",
    "    \"\"\"Return a list containing the Fibonacci series up to n.\"\"\"\n",
    "    result = []\n",
    "    a, b = 0, 1\n",
    "    while a < n:\n",
    "        result.append(a)    # see below\n",
    "        a, b = b, a+b\n",
    "    return result\n",
    "\n",
    "f100 = fib2(100)    # call it\n",
    "f100                # \n"
   ]
  },
  {
   "cell_type": "markdown",
   "metadata": {
    "slideshow": {
     "slide_type": "subslide"
    }
   },
   "source": [
    "### Infinite loops\n",
    "\n",
    "\n",
    "Having True as a condition creates an infinite loop. \n",
    "\n",
    "Infinite loops can be very useful. \n",
    "\n",
    "Just remember that you must ensure the loop gets broken out of at some point, so it doesn’t truly become infinite."
   ]
  },
  {
   "cell_type": "code",
   "execution_count": 5,
   "metadata": {
    "slideshow": {
     "slide_type": "-"
    }
   },
   "outputs": [
    {
     "name": "stdout",
     "output_type": "stream",
     "text": [
      "Is 42 the answer to life, universe and everything?yes\n"
     ]
    },
    {
     "data": {
      "text/plain": [
       "True"
      ]
     },
     "execution_count": 5,
     "metadata": {},
     "output_type": "execute_result"
    }
   ],
   "source": [
    "def ask_ok(prompt, retries=4, reminder='Please try again!'): # retries and reminder have default values\n",
    "    while True:\n",
    "        ok = input(prompt)\n",
    "        if ok in ('y', 'ye', 'yes'):\n",
    "            return True\n",
    "        if ok in ('n', 'no', 'nop', 'nope'):\n",
    "            return False\n",
    "        retries = retries - 1\n",
    "        if retries < 0:\n",
    "            raise ValueError('invalid user response')\n",
    "        print(reminder)\n",
    "        \n",
    "ask_ok('Is 42 the answer to life, universe and everything?')\n"
   ]
  },
  {
   "cell_type": "markdown",
   "metadata": {
    "slideshow": {
     "slide_type": "subslide"
    }
   },
   "source": [
    "### Using else Statement with WHILE"
   ]
  },
  {
   "cell_type": "code",
   "execution_count": 45,
   "metadata": {},
   "outputs": [
    {
     "name": "stdout",
     "output_type": "stream",
     "text": [
      "0  is  less than 5\n",
      "1  is  less than 5\n",
      "2  is  less than 5\n",
      "3  is  less than 5\n",
      "4  is  less than 5\n",
      "5  is not less than 5\n"
     ]
    }
   ],
   "source": [
    "count = 0\n",
    "while count < 5:\n",
    "   print(count, \" is  less than 5\")\n",
    "   count = count + 1\n",
    "else:\n",
    "   print(count, \" is not less than 5\")\n"
   ]
  },
  {
   "cell_type": "markdown",
   "metadata": {
    "slideshow": {
     "slide_type": "subslide"
    }
   },
   "source": [
    "### 2.4 For: Definite loops \n",
    "\n",
    "for **target** in **iterable**: <br>\n",
    "&nbsp;&nbsp;&nbsp;&nbsp;**statements** \n",
    "\n",
    "#### Flow diagram\n",
    "\n",
    "<img src=\"images/for_flow.png\" alt=\"while loop\" width=\"400\"/>"
   ]
  },
  {
   "cell_type": "code",
   "execution_count": 2,
   "metadata": {
    "slideshow": {
     "slide_type": "subslide"
    }
   },
   "outputs": [
    {
     "name": "stdout",
     "output_type": "stream",
     "text": [
      "0\n",
      "1\n",
      "2\n",
      "3\n",
      "4\n",
      "5\n",
      "6\n",
      "7\n",
      "8\n",
      "9\n"
     ]
    }
   ],
   "source": [
    "# Print some numbers \n",
    "for a in range(10):\n",
    "    print(a)"
   ]
  },
  {
   "cell_type": "code",
   "execution_count": 6,
   "metadata": {
    "slideshow": {
     "slide_type": "-"
    }
   },
   "outputs": [
    {
     "name": "stdout",
     "output_type": "stream",
     "text": [
      "Emma\n",
      "Nora\n",
      "Sofia\n",
      "Alexander\n",
      "Alf\n",
      "Sofie\n",
      "Christian\n"
     ]
    }
   ],
   "source": [
    "names = [\"Emma\",\"Nora\",\"Sofia\",\"Alexander\",\"Alf\",\"Sofie\",\"Christian\"]\n",
    "\n",
    "for i in range(len(names)):\n",
    "    print(names[i])"
   ]
  },
  {
   "cell_type": "markdown",
   "metadata": {
    "slideshow": {
     "slide_type": "subslide"
    }
   },
   "source": [
    "### Using else Statement with FOR"
   ]
  },
  {
   "cell_type": "code",
   "execution_count": 7,
   "metadata": {
    "slideshow": {
     "slide_type": "-"
    }
   },
   "outputs": [
    {
     "name": "stdout",
     "output_type": "stream",
     "text": [
      "Emma\n",
      "Nora\n",
      "Sofia\n",
      "Alexander\n",
      "Alf\n",
      "Sofie\n",
      "Christian\n",
      "The listed was exhausted\n"
     ]
    }
   ],
   "source": [
    "names = [\"Emma\",\"Nora\",\"Sofia\",\"Alexander\",\"Alf\",\"Sofie\",\"Christian\"]\n",
    "\n",
    "for i in range(len(names)):\n",
    "    print(names[i])\n",
    "else: print(\"The listed was exhausted\")"
   ]
  },
  {
   "cell_type": "markdown",
   "metadata": {
    "slideshow": {
     "slide_type": "slide"
    }
   },
   "source": [
    "## 3 *break*, *continue* and *pass* statements "
   ]
  },
  {
   "cell_type": "markdown",
   "metadata": {
    "slideshow": {
     "slide_type": "subslide"
    }
   },
   "source": [
    "### 3.1 *break*"
   ]
  },
  {
   "cell_type": "code",
   "execution_count": 18,
   "metadata": {
    "slideshow": {
     "slide_type": "-"
    }
   },
   "outputs": [
    {
     "name": "stdout",
     "output_type": "stream",
     "text": [
      "Number is 1\n",
      "Number is 2\n",
      "Number is 3\n",
      "Number is 4\n",
      "Out of loop\n"
     ]
    }
   ],
   "source": [
    "number = 0\n",
    "\n",
    "for number in range(10):\n",
    "    number = number + 1\n",
    "    if number == 5:\n",
    "        break    # break here and leave the for loop\n",
    "    print('Number is ' + str(number))\n",
    "print('Out of loop')"
   ]
  },
  {
   "cell_type": "markdown",
   "metadata": {
    "slideshow": {
     "slide_type": "subslide"
    }
   },
   "source": [
    "### 3.2 *continue*"
   ]
  },
  {
   "cell_type": "code",
   "execution_count": 19,
   "metadata": {},
   "outputs": [
    {
     "name": "stdout",
     "output_type": "stream",
     "text": [
      "Number is 1\n",
      "Number is 2\n",
      "Number is 3\n",
      "Number is 4\n",
      "Number is 6\n",
      "Number is 7\n",
      "Number is 8\n",
      "Number is 9\n",
      "Number is 10\n",
      "Out of loop\n"
     ]
    }
   ],
   "source": [
    "number = 0\n",
    "\n",
    "for number in range(10):\n",
    "    number = number + 1    \n",
    "    if number == 5:\n",
    "        continue    # continue here and don't print number\n",
    "    print('Number is ' + str(number))\n",
    "print('Out of loop')"
   ]
  },
  {
   "cell_type": "markdown",
   "metadata": {
    "slideshow": {
     "slide_type": "subslide"
    }
   },
   "source": [
    "### 3.3 *pass*"
   ]
  },
  {
   "cell_type": "code",
   "execution_count": 20,
   "metadata": {},
   "outputs": [
    {
     "name": "stdout",
     "output_type": "stream",
     "text": [
      "Number is 1\n",
      "Number is 2\n",
      "Number is 3\n",
      "Number is 4\n",
      "Number is 5\n",
      "Number is 6\n",
      "Number is 7\n",
      "Number is 8\n",
      "Number is 9\n",
      "Number is 10\n",
      "Out of loop\n"
     ]
    }
   ],
   "source": [
    "number = 0\n",
    "\n",
    "for number in range(10):\n",
    "    number = number + 1\n",
    "    if number == 5:\n",
    "        pass    # pass here ignores the fact that number was evaluated\n",
    "    print ('Number is ' + str(number))\n",
    "print ('Out of loop')"
   ]
  },
  {
   "cell_type": "markdown",
   "metadata": {
    "slideshow": {
     "slide_type": "slide"
    }
   },
   "source": [
    "## 4 Nested loops\n",
    "\n",
    "\n",
    "A \"nested\" loop is a loop that has been placed inside of the body of another loop.\n",
    "\n",
    "\n",
    "-------------------------\n",
    "\n",
    "for **target** in **iterable**:<br>\n",
    "&nbsp;&nbsp;&nbsp;&nbsp;for **target** in **iterable**:<br>\n",
    "&nbsp;&nbsp;&nbsp;&nbsp;&nbsp;&nbsp;&nbsp;&nbsp;**statements**<br>\n",
    "&nbsp;&nbsp;&nbsp;&nbsp;**statements**\n",
    "\n",
    "-------------------------\n",
    "  \n",
    "while **expression**: <br>\n",
    "&nbsp;&nbsp;&nbsp;&nbsp;while **expression**: <br>\n",
    "&nbsp;&nbsp;&nbsp;&nbsp;&nbsp;&nbsp;&nbsp;&nbsp;**statements**<br>\n",
    "&nbsp;&nbsp;&nbsp;&nbsp;**statements**\n",
    "\n",
    "-------------------------"
   ]
  },
  {
   "cell_type": "markdown",
   "metadata": {
    "slideshow": {
     "slide_type": "subslide"
    }
   },
   "source": [
    "### Nested for loops can be extremely useful when dealing with multi-dimensional data. "
   ]
  },
  {
   "cell_type": "code",
   "execution_count": 11,
   "metadata": {
    "slideshow": {
     "slide_type": "-"
    }
   },
   "outputs": [
    {
     "name": "stdout",
     "output_type": "stream",
     "text": [
      "5 6 7 8 \n",
      "3 5 6 4 \n"
     ]
    }
   ],
   "source": [
    "matrix = [[4,5,6,7],[2,4,5,3]]\n",
    "for row in matrix:\n",
    "    for element in row:\n",
    "        print(element+1, end=' ')\n",
    "    print()"
   ]
  },
  {
   "cell_type": "markdown",
   "metadata": {},
   "source": [
    "### Print all possible binary numbers from 0 to 7"
   ]
  },
  {
   "cell_type": "code",
   "execution_count": 22,
   "metadata": {
    "slideshow": {
     "slide_type": "subslide"
    }
   },
   "outputs": [
    {
     "name": "stdout",
     "output_type": "stream",
     "text": [
      "000\n",
      "001\n",
      "010\n",
      "011\n",
      "100\n",
      "101\n",
      "110\n",
      "111\n",
      "normal termination\n"
     ]
    }
   ],
   "source": [
    "a = 0\n",
    "while a < 2 :\n",
    "    b = 0\n",
    "    while b < 2 :\n",
    "        c = 0\n",
    "        while c < 2 :\n",
    "            print('{}{}{}'.format(a,b,c)) # a bit of fancy format\n",
    "            pass\n",
    "            c += 1\n",
    "        b += 1\n",
    "    a += 1\n",
    "else:\n",
    "    print('normal termination')"
   ]
  },
  {
   "cell_type": "markdown",
   "metadata": {
    "slideshow": {
     "slide_type": "subslide"
    }
   },
   "source": [
    "### BONUS: Do you really need nested loops?\n",
    "\n",
    "\n",
    "### List comprehensions\n",
    "\n",
    "**output expression FOR variable IN input_sequence**\n",
    "\n",
    "```python\n",
    "[print(element+1,end=' ') for element in row]\n",
    "```\n",
    "\n"
   ]
  },
  {
   "cell_type": "code",
   "execution_count": 10,
   "metadata": {
    "slideshow": {
     "slide_type": "-"
    }
   },
   "outputs": [
    {
     "name": "stdout",
     "output_type": "stream",
     "text": [
      "5 6 7 8 \n",
      "3 5 6 4 \n"
     ]
    }
   ],
   "source": [
    "matrix = [[4,5,6,7],[2,4,5,3]]\n",
    "for row in matrix:\n",
    "    [print(element+1,end=' ') for element in row]\n",
    "    print()"
   ]
  },
  {
   "cell_type": "markdown",
   "metadata": {
    "slideshow": {
     "slide_type": "subslide"
    }
   },
   "source": [
    "### Timing Code Snippets\n",
    "\n",
    "**%%timeit** can be used to time the repeated execution of snippets of code:\n",
    "\n",
    "670 µs ± 10.1 µs per loop (mean ± std. dev. of 7 runs, 1000 loops each)\n",
    "\n",
    "With list comprehensions<br>\n",
    "651 µs ± 20.1 µs per loop (mean ± std. dev. of 7 runs, 1000 loops each)"
   ]
  }
 ],
 "metadata": {
  "celltoolbar": "Slideshow",
  "kernelspec": {
   "display_name": "Python 3",
   "language": "python",
   "name": "python3"
  },
  "language_info": {
   "codemirror_mode": {
    "name": "ipython",
    "version": 3
   },
   "file_extension": ".py",
   "mimetype": "text/x-python",
   "name": "python",
   "nbconvert_exporter": "python",
   "pygments_lexer": "ipython3",
   "version": "3.7.1"
  }
 },
 "nbformat": 4,
 "nbformat_minor": 2
}
